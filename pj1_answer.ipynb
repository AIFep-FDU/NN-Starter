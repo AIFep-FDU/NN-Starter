{
 "cells": [
  {
   "cell_type": "code",
   "execution_count": null,
   "metadata": {},
   "outputs": [],
   "source": [
    "## 完善代码1：自定义self.linear2，注意输入维度和输出维度\n",
    "self.linear2 = nn.Linear(num_hidden, num_outputs)"
   ]
  },
  {
   "cell_type": "code",
   "execution_count": null,
   "metadata": {},
   "outputs": [],
   "source": [
    "## 完善代码2：根据data的值生成异或标签label\n",
    "label = (data.sum(dim=1) == 1).to(torch.long)"
   ]
  },
  {
   "cell_type": "code",
   "execution_count": null,
   "metadata": {},
   "outputs": [],
   "source": [
    "## 完善代码3： 根据model和data_inputs得出预测值preds\n",
    "preds = model(data_inputs)"
   ]
  },
  {
   "cell_type": "code",
   "execution_count": null,
   "metadata": {},
   "outputs": [],
   "source": [
    "## 完善代码4：根据预测值和标签实际值，计算loss\n",
    "loss = loss_module(preds, data_labels.float())"
   ]
  },
  {
   "cell_type": "code",
   "execution_count": null,
   "metadata": {},
   "outputs": [],
   "source": [
    "## 完善代码5：将data_inputs，data_labels加载到指定device上\n",
    "data_inputs, data_labels = data_inputs.to(device), data_labels.to(device)"
   ]
  }
 ],
 "metadata": {
  "language_info": {
   "name": "python"
  }
 },
 "nbformat": 4,
 "nbformat_minor": 2
}
